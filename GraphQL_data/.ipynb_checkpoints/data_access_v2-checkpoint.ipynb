version https://git-lfs.github.com/spec/v1
oid sha256:535682d093e0b6dd52d9dde0e4c8dc2389a362d14890c90b662142ffd4896161
size 289545
